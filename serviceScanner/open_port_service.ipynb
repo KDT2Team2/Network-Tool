{
  "nbformat": 4,
  "nbformat_minor": 0,
  "metadata": {
    "colab": {
      "provenance": []
    },
    "kernelspec": {
      "name": "python3",
      "display_name": "Python 3"
    },
    "language_info": {
      "name": "python"
    }
  },
  "cells": [
    {
      "cell_type": "code",
      "source": [
        "pip install scapy"
      ],
      "metadata": {
        "colab": {
          "base_uri": "https://localhost:8080/"
        },
        "id": "mAbHWcrz2umx",
        "outputId": "90f2288b-8136-4dd1-f96d-f52dee604500"
      },
      "execution_count": null,
      "outputs": [
        {
          "output_type": "stream",
          "name": "stdout",
          "text": [
            "Requirement already satisfied: scapy in /usr/local/lib/python3.10/dist-packages (2.5.0)\n"
          ]
        }
      ]
    },
    {
      "cell_type": "code",
      "source": [
        "import socket\n",
        "from scapy.all import *"
      ],
      "metadata": {
        "id": "85XydV5D2G44"
      },
      "execution_count": null,
      "outputs": []
    },
    {
      "cell_type": "markdown",
      "source": [
        "### Port Scan"
      ],
      "metadata": {
        "id": "IUkW1rInFWeZ"
      }
    },
    {
      "cell_type": "code",
      "source": [
        "def scan_ports(ip):\n",
        "    open_ports = []\n",
        "    for port in range(1, 1025):\n",
        "        pkt = IP(dst=ip)/TCP(dport=port, flags=\"S\")\n",
        "        response = sr1(pkt, timeout=1, verbose=0)\n",
        "        if response:\n",
        "            if response.haslayer(TCP) and response[TCP].flags == 18:\n",
        "                open_ports.append(port)\n",
        "                print(f\"Port {port} is open.\")\n",
        "    return open_ports"
      ],
      "metadata": {
        "id": "pyXQlkRj2HLz"
      },
      "execution_count": null,
      "outputs": []
    },
    {
      "cell_type": "code",
      "source": [
        "target_host = input(\"IP: \")\n",
        "open_ports = scan_ports(target_host)"
      ],
      "metadata": {
        "colab": {
          "base_uri": "https://localhost:8080/"
        },
        "id": "UvHYaOMc2MqZ",
        "outputId": "cbe56b53-934c-4bbe-e796-d0f90e9dfe8a"
      },
      "execution_count": null,
      "outputs": [
        {
          "output_type": "stream",
          "name": "stdout",
          "text": [
            "IP: 218.50.136.184\n",
            "Port 22 is open.\n",
            "Port 25 is open.\n",
            "Port 80 is open.\n",
            "Port 443 is open.\n"
          ]
        }
      ]
    },
    {
      "cell_type": "markdown",
      "source": [
        "### Detect service Banner"
      ],
      "metadata": {
        "id": "OtWeGx5pFdNn"
      }
    },
    {
      "cell_type": "code",
      "source": [
        "def service_banner(ip, port):\n",
        "    try:\n",
        "        s = socket.socket(socket.AF_INET, socket.SOCK_STREAM)\n",
        "        s.settimeout(2)\n",
        "        s.connect((ip, port))\n",
        "        banner = s.recv(1024).decode('utf-8').strip()\n",
        "        s.close()\n",
        "        return banner\n",
        "    except:\n",
        "        return None"
      ],
      "metadata": {
        "id": "Kll_TtIsNPBo"
      },
      "execution_count": null,
      "outputs": []
    },
    {
      "cell_type": "code",
      "source": [
        "def detect_service_by_banner(banner):\n",
        "    if not banner:\n",
        "        return \"Unknown\"\n",
        "\n",
        "    service_patterns = {\n",
        "        \"HTTP\": [\"80\", \"HTTP/1.\", \"HTTP/2.\"],\n",
        "        \"SSH\": [\"SSH-2.0-\", \"SSH-1.99-\"],\n",
        "        \"SMTP\" : [\"25\", \"ESMTP\"],\n",
        "        \"FTP\": [\"220\", \"FTP\"],\n",
        "        \"SQL\": [\"MSSQL\", \"MySQL\", \"PostgreSQL\"],\n",
        "    }\n",
        "\n",
        "    for service, patterns in service_patterns.items():\n",
        "        for pattern in patterns:\n",
        "            if pattern in banner:\n",
        "                return service"
      ],
      "metadata": {
        "id": "cR2EqP7_2Iw9"
      },
      "execution_count": null,
      "outputs": []
    },
    {
      "cell_type": "code",
      "source": [
        "for port in open_ports:\n",
        "    banner = service_banner(target_host, port)\n",
        "    if banner:\n",
        "        service = detect_service_by_banner(banner)\n",
        "        print(f\"{port} banner : {banner}\")\n",
        "        print(f\"Service: {service}\")\n",
        "    else:\n",
        "        print(f\"{port} port no banner\")"
      ],
      "metadata": {
        "colab": {
          "base_uri": "https://localhost:8080/"
        },
        "id": "qJTjD8XRAboa",
        "outputId": "b7e40eec-0325-4fd1-b7d5-737a4f7f5751"
      },
      "execution_count": null,
      "outputs": [
        {
          "output_type": "stream",
          "name": "stdout",
          "text": [
            "22 banner : SSH-2.0-OpenSSH_8.9p1 Ubuntu-3ubuntu0.3\n",
            "Service: SSH\n",
            "25 banner : 220 sakuya-izyoi.skbroadband ESMTP Postfix (Ubuntu)\n",
            "Service: SMTP\n",
            "80 port no banner\n",
            "443 port no banner\n"
          ]
        }
      ]
    },
    {
      "cell_type": "code",
      "source": [],
      "metadata": {
        "id": "N2x62KWASNAp"
      },
      "execution_count": null,
      "outputs": []
    },
    {
      "cell_type": "code",
      "source": [],
      "metadata": {
        "id": "2KoHWum4SNCv"
      },
      "execution_count": null,
      "outputs": []
    },
    {
      "cell_type": "markdown",
      "source": [
        "### HTTP / HTTPS"
      ],
      "metadata": {
        "id": "a_lAInGa-dcE"
      }
    },
    {
      "cell_type": "code",
      "source": [
        "def detect_http_service(ip, port):\n",
        "    s = socket.socket(socket.AF_INET, socket.SOCK_STREAM)\n",
        "    s.settimeout(2)\n",
        "    s.connect((ip, port))\n",
        "\n",
        "    http_request = \"GET / HTTP/1.1\\r\\nHost: {}\\r\\n\\r\\n\".format(ip)\n",
        "    s.sendall(http_request.encode())\n",
        "\n",
        "    response = s.recv(4096).decode('utf-8')\n",
        "\n",
        "    if \"HTTP/1.\" in response:\n",
        "        return \"True\"\n",
        "    else:\n",
        "        return \"False\""
      ],
      "metadata": {
        "id": "sSZiPqevSNFH"
      },
      "execution_count": null,
      "outputs": []
    },
    {
      "cell_type": "code",
      "source": [
        "for port in open_ports:\n",
        "  is_http = detect_http_service(target_host, port)\n",
        "\n",
        "  if is_http:\n",
        "      print(f\"IP : {target_host} Port : {port} is {is_http}.\")\n",
        "  else:\n",
        "      print(f\"IP : {target_host} Port : {port} is {is_http}\")"
      ],
      "metadata": {
        "colab": {
          "base_uri": "https://localhost:8080/"
        },
        "id": "oEEmGRr0SQ4Z",
        "outputId": "68e053f1-9628-474b-8d4a-4596a8b04180"
      },
      "execution_count": null,
      "outputs": [
        {
          "output_type": "stream",
          "name": "stdout",
          "text": [
            "IP : 218.50.136.184 Port : 22 is False.\n",
            "IP : 218.50.136.184 Port : 25 is False.\n",
            "IP : 218.50.136.184 Port : 80 is True.\n",
            "IP : 218.50.136.184 Port : 443 is True.\n"
          ]
        }
      ]
    },
    {
      "cell_type": "markdown",
      "source": [
        "### DHCP\n"
      ],
      "metadata": {
        "id": "F-UTMnHU-aow"
      }
    },
    {
      "cell_type": "code",
      "source": [
        "def detect_dhcp_service(ip, port, iface=\"eth0\"):\n",
        "    dhcp_discover = (\n",
        "        Ether(dst=\"ff:ff:ff:ff:ff:ff\") /\n",
        "        IP(src=\"0.0.0.0\", dst=ip) /\n",
        "        UDP(sport=68, dport=port) /\n",
        "        BOOTP(chaddr=b\"\\x00\\x01\\x02\\x03\\x04\\x05\") /\n",
        "        DHCP(options=[(\"message-type\", \"discover\"), \"end\"])\n",
        "    )\n",
        "\n",
        "    response = srp1(dhcp_discover, timeout=2, verbose=0, iface=iface)\n",
        "\n",
        "    if response and DHCP in response and response[DHCP].options[0][1] == 2:\n",
        "        return True\n",
        "    return False"
      ],
      "metadata": {
        "id": "7Ufj5Qsl4-y-"
      },
      "execution_count": null,
      "outputs": []
    },
    {
      "cell_type": "code",
      "source": [
        "for port in open_ports:\n",
        "  is_dhcp = detect_dhcp_service(target_host, port)\n",
        "\n",
        "  if is_dhcp:\n",
        "      print(f\"IP : {target_host} Port : {port} is {is_dhcp}.\")\n",
        "  else:\n",
        "      print(f\"IP : {target_host} Port : {port} is {is_dhcp}\")"
      ],
      "metadata": {
        "colab": {
          "base_uri": "https://localhost:8080/"
        },
        "id": "rzLGgsko9XsJ",
        "outputId": "353d259e-e3d2-4775-af44-ad4e6021f095"
      },
      "execution_count": null,
      "outputs": [
        {
          "output_type": "stream",
          "name": "stdout",
          "text": [
            "IP : 218.50.136.184 Port : 22 is False\n",
            "IP : 218.50.136.184 Port : 25 is False\n",
            "IP : 218.50.136.184 Port : 80 is False\n",
            "IP : 218.50.136.184 Port : 443 is False\n"
          ]
        }
      ]
    }
  ]
}